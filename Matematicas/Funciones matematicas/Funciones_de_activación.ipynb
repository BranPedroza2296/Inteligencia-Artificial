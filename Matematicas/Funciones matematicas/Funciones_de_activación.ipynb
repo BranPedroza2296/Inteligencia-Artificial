{
  "nbformat": 4,
  "nbformat_minor": 0,
  "metadata": {
    "colab": {
      "provenance": []
    },
    "kernelspec": {
      "name": "python3",
      "display_name": "Python 3"
    },
    "language_info": {
      "name": "python"
    }
  },
  "cells": [
    {
      "cell_type": "markdown",
      "metadata": {
        "id": "irO2zJAu-wyL"
      },
      "source": [
        "# Dependencias"
      ]
    },
    {
      "cell_type": "code",
      "metadata": {
        "id": "Tdxp_bKI-S1J"
      },
      "source": [
        "import numpy as np\n",
        "import matplotlib.pyplot as plt\n",
        "\n",
        "N = 1000\n",
        "x = np.linspace(-5,5, num=N)"
      ],
      "execution_count": 1,
      "outputs": []
    },
    {
      "cell_type": "markdown",
      "metadata": {
        "id": "lmFlsveb-8Vf"
      },
      "source": [
        "## Función lineal\n",
        "$$y=mx+b$$"
      ]
    },
    {
      "cell_type": "code",
      "metadata": {
        "colab": {
          "base_uri": "https://localhost:8080/",
          "height": 265
        },
        "id": "2YnIVMty_QqE",
        "outputId": "fab8074f-9b26-4870-d738-c729f6f92769"
      },
      "source": [
        "def f(x):\n",
        "  return x\n",
        "\n",
        "plt.plot(x, f(x))\n",
        "plt.grid()"
      ],
      "execution_count": 2,
      "outputs": [
        {
          "output_type": "display_data",
          "data": {
            "text/plain": [
              "<Figure size 432x288 with 1 Axes>"
            ],
            "image/png": "[encoded data removed]"
          },
          "metadata": {
            "needs_background": "light"
          }
        }
      ]
    },
    {
      "cell_type": "markdown",
      "metadata": {
        "id": "r-gA0anQ_rMk"
      },
      "source": [
        "## Función escalón o de Heaviside\n",
        "$$H(x) = \n",
        "     \\begin{cases}\n",
        "        0, &\\quad \\text{para, } x < 0 \\\\\n",
        "        1,  &\\quad\\text{para. } x \\ge 0 \\\\\n",
        "     \\end{cases}\n",
        "$$"
      ]
    },
    {
      "cell_type": "code",
      "metadata": {
        "colab": {
          "base_uri": "https://localhost:8080/",
          "height": 265
        },
        "id": "OiOVqsnt_qxV",
        "outputId": "880b9426-1570-49ac-d726-ca8b41e81d2c"
      },
      "source": [
        "def H(x):\n",
        "  Y = np.zeros(len(x))\n",
        "  for idx,x in enumerate(x):\n",
        "    if x>=0:\n",
        "      Y[idx]=1\n",
        "  return Y\n",
        "    \n",
        "\n",
        "N=1000\n",
        "\n",
        "\n",
        "y = H(x)\n",
        "\n",
        "plt.plot(x,y)\n",
        "plt.grid()"
      ],
      "execution_count": 3,
      "outputs": [
        {
          "output_type": "display_data",
          "data": {
            "text/plain": [
              "<Figure size 432x288 with 1 Axes>"
            ],
            "image/png": "[encoded data removed]"
          },
          "metadata": {
            "needs_background": "light"
          }
        }
      ]
    },
    {
      "cell_type": "markdown",
      "metadata": {
        "id": "F8-dWgZ9ALyK"
      },
      "source": [
        "## Función sigmoide\n",
        "\n",
        "$$f(x)=\\frac{1}{1-e^{-x}}$$"
      ]
    },
    {
      "cell_type": "code",
      "metadata": {
        "colab": {
          "base_uri": "https://localhost:8080/",
          "height": 265
        },
        "id": "HYGBFRzBB8T3",
        "outputId": "bd1bf93a-04be-4c05-f952-632a80a41c1e"
      },
      "source": [
        "def f(x):\n",
        "  return 1/(1 + np.exp(-x))\n",
        "    \n",
        "\n",
        "N=1000\n",
        "\n",
        "y = f(x)\n",
        "\n",
        "plt.plot(x,y)\n",
        "plt.grid()"
      ],
      "execution_count": 4,
      "outputs": [
        {
          "output_type": "display_data",
          "data": {
            "text/plain": [
              "<Figure size 432x288 with 1 Axes>"
            ],
            "image/png": "[encoded data removed]"
          },
          "metadata": {
            "needs_background": "light"
          }
        }
      ]
    },
    {
      "cell_type": "markdown",
      "metadata": {
        "id": "0YIwFaraBOVk"
      },
      "source": [
        "## Función tangente hiperbólica\n",
        "\n",
        "$$f(x)=\\frac{2}{1+e^{-2x}}-1$$"
      ]
    },
    {
      "cell_type": "code",
      "metadata": {
        "colab": {
          "base_uri": "https://localhost:8080/",
          "height": 265
        },
        "id": "8inBNJSeCM6j",
        "outputId": "62982bd8-0ef0-45c1-ab58-f44ed466e3d0"
      },
      "source": [
        "def f(x):\n",
        "  return np.tanh(x)\n",
        "    \n",
        "\n",
        "N=1000\n",
        "\n",
        "y = f(x)\n",
        "\n",
        "plt.plot(x,y)\n",
        "plt.grid()"
      ],
      "execution_count": 5,
      "outputs": [
        {
          "output_type": "display_data",
          "data": {
            "text/plain": [
              "<Figure size 432x288 with 1 Axes>"
            ],
            "image/png": "[encoded data removed]"
          },
          "metadata": {
            "needs_background": "light"
          }
        }
      ]
    },
    {
      "cell_type": "markdown",
      "metadata": {
        "id": "qHmEmIRfBrc1"
      },
      "source": [
        "## Función ReLU\n",
        "\n",
        "$$R(x)=max(0,x)$$"
      ]
    },
    {
      "cell_type": "code",
      "metadata": {
        "colab": {
          "base_uri": "https://localhost:8080/",
          "height": 265
        },
        "id": "CECyo-QDCcMz",
        "outputId": "d9c65a20-33d4-468a-8bad-8e40e324c5d7"
      },
      "source": [
        "def f(x):\n",
        "  return np.maximum(x,0)\n",
        "    \n",
        "\n",
        "N=1000\n",
        "\n",
        "y = f(x)\n",
        "\n",
        "plt.plot(x,y)\n",
        "plt.grid()"
      ],
      "execution_count": null,
      "outputs": [
        {
          "output_type": "display_data",
          "data": {
            "image/png": "[encoded data removed]",
            "text/plain": [
              "<Figure size 432x288 with 1 Axes>"
            ]
          },
          "metadata": {
            "needs_background": "light"
          }
        }
      ]
    }
  ]
}